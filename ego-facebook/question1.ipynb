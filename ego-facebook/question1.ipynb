{
 "cells": [
  {
   "cell_type": "markdown",
   "source": [
    "<hr>\n",
    "<h1>Ego-Facebook dataset</h1>\n",
    "<hr>"
   ],
   "metadata": {}
  },
  {
   "cell_type": "code",
   "execution_count": 2,
   "source": [
    "#pip install networkx\r\n",
    "#pip install matplotlib\r\n",
    "import networkx as nx\r\n",
    "import matplotlib.pyplot as plt\r\n",
    "\r\n",
    "G = nx.read_edgelist('facebook_combined.txt', create_using = nx.Graph(), nodetype = int)"
   ],
   "outputs": [],
   "metadata": {}
  },
  {
   "cell_type": "markdown",
   "source": [
    "<hr>\n",
    "<h1>Structure of the network</h1>"
   ],
   "metadata": {}
  },
  {
   "cell_type": "code",
   "execution_count": 2,
   "source": [
    "#number of nodes and edges in the orignal network\r\n",
    "print('number of Nodes:',G.number_of_nodes())\r\n",
    "print('number of Edges:',G.number_of_edges())\r\n",
    "\r\n",
    "#number of nodes and edges in the network \r\n",
    "#after removing nodes with IDs divisible by 3\r\n",
    "G_without_nodes_div_by_3 = G\r\n",
    "to_del = [nodeID for nodeID in  G_without_nodes_div_by_3 if (nodeID)%3==0]\r\n",
    "G_without_nodes_div_by_3.remove_nodes_from(to_del)\r\n",
    "print('number of Nodes after removal of Node IDs divisible by 3:',G_without_nodes_div_by_3.number_of_nodes())\r\n",
    "print('number of Edges after removal of Node IDs divisible by 3:',G_without_nodes_div_by_3.number_of_edges())"
   ],
   "outputs": [
    {
     "output_type": "stream",
     "name": "stdout",
     "text": [
      "number of Nodes: 4039\n",
      "number of Edges: 88234\n",
      "number of Nodes after removal of Node IDs divisible by 3: 2692\n",
      "number of Edges after removal of Node IDs divisible by 3: 39116\n"
     ]
    }
   ],
   "metadata": {}
  },
  {
   "cell_type": "code",
   "execution_count": 3,
   "source": [
    "#nodes with highest degree\r\n",
    "highest_degree  =0\r\n",
    "for node in G.nodes():\r\n",
    "    highest_degree  = max(highest_degree, G.degree[node])\r\n",
    "\r\n",
    "high_degree_nodes = [node for (node, val) in G.degree() if G.degree[node] == highest_degree]\r\n",
    "print(\"node IDs with the highest degree: \",high_degree_nodes)"
   ],
   "outputs": [
    {
     "output_type": "stream",
     "name": "stdout",
     "text": [
      "node IDs with the highest degree:  [107]\n"
     ]
    }
   ],
   "metadata": {}
  },
  {
   "cell_type": "code",
   "execution_count": 5,
   "source": [
    "#check\r\n",
    "all_paths = [len(c) for c in sorted(nx.shortest_path_length(G), key=len, reverse=True)]\r\n",
    "unique_paths = list(set(all_paths))\r\n",
    "\r\n",
    "count_of_paths = []\r\n",
    "\r\n",
    "for i in unique_paths:\r\n",
    "    x = all_paths.count(i)\r\n",
    "    count_of_paths.append(x)\r\n",
    "\r\n",
    "plt.figure(figsize=(12, 8)) \r\n",
    "plt.loglog(unique_paths, count_of_paths,'go-') \r\n",
    "plt.xlabel('Shortest path length')\r\n",
    "plt.ylabel('Frequency')\r\n",
    "plt.title('Distribution of shortest path lengths')\r\n",
    "plt.savefig('./plots/shortest_path_ego_facebook.jpg')\r\n",
    "plt.show()"
   ],
   "outputs": [
    {
     "output_type": "display_data",
     "data": {
      "image/png": "[encoded data removed]",
      "text/plain": [
       "<Figure size 864x576 with 1 Axes>"
      ]
     },
     "metadata": {
      "needs_background": "light"
     }
    }
   ],
   "metadata": {}
  },
  {
   "cell_type": "markdown",
   "source": [
    "<hr>\n",
    "<h1>Components of the network</h1>"
   ],
   "metadata": {}
  },
  {
   "cell_type": "code",
   "execution_count": 5,
   "source": [
    "components = nx.connected_components(G)\r\n",
    "largest_component = max(components, key=len)\r\n",
    "subgraph = G.subgraph(largest_component)\r\n",
    "\r\n",
    "#fraction of nodes in the largest connected component\r\n",
    "fraction = subgraph.number_of_nodes()/(G.number_of_nodes())\r\n",
    "print(\"fraction of nodes in the largest connected component: \", fraction)\r\n",
    "\r\n",
    "#number of articulation points\r\n",
    "articulation_points = len(list(nx.articulation_points(G)))\r\n",
    "print(\"number of articulation points: \", articulation_points)\r\n",
    "\r\n",
    "#number of connected components\r\n",
    "print(\"number of connected components: \",nx.number_connected_components(G))"
   ],
   "outputs": [
    {
     "output_type": "stream",
     "name": "stdout",
     "text": [
      "fraction of nodes in the largest connected component:  0.9684249628528975\n",
      "number of articulation points:  26\n",
      "number of connected components:  37\n"
     ]
    }
   ],
   "metadata": {}
  },
  {
   "cell_type": "code",
   "execution_count": 6,
   "source": [
    "all_sizes = [len(c) for c in sorted(nx.connected_components(G), key=len, reverse=True)]\r\n",
    "unique_sizes = list(set(all_sizes))\r\n",
    "\r\n",
    "count_of_sizes = []\r\n",
    "\r\n",
    "for i in unique_sizes:\r\n",
    "    x = all_sizes.count(i)\r\n",
    "    count_of_sizes.append(x)\r\n",
    "\r\n",
    "plt.figure(figsize=(12, 8)) \r\n",
    "plt.loglog(unique_sizes, count_of_sizes,'go-') \r\n",
    "plt.xlabel('Size of connected component')\r\n",
    "plt.ylabel('Frequency')\r\n",
    "plt.title('Distribution of size of connected components')\r\n",
    "plt.savefig('./plots/connected_comp_ego_facebook.jpg')\r\n",
    "plt.show()"
   ],
   "outputs": [
    {
     "output_type": "display_data",
     "data": {
      "image/png": "[encoded data removed]",
      "text/plain": [
       "<Figure size 864x576 with 1 Axes>"
      ]
     },
     "metadata": {
      "needs_background": "light"
     }
    }
   ],
   "metadata": {}
  },
  {
   "cell_type": "code",
   "execution_count": 8,
   "source": [
    "#diameter of largest component\r\n",
    "diameter = nx.diameter(subgraph)\r\n",
    "print(\"network diameter of largest component: \", diameter)\r\n",
    "\r\n",
    "#this takes around 500sec to run"
   ],
   "outputs": [
    {
     "output_type": "stream",
     "name": "stdout",
     "text": [
      "network diameter of largest component:  14\n"
     ]
    }
   ],
   "metadata": {}
  }
 ],
 "metadata": {
  "interpreter": {
   "hash": "223c27acd2f0d30991757af3704a37d958d615953cddcb1d78c6a06176f530c7"
  },
  "kernelspec": {
   "name": "python3",
   "display_name": "Python 3.9.5 64-bit"
  },
  "language_info": {
   "codemirror_mode": {
    "name": "ipython",
    "version": 3
   },
   "file_extension": ".py",
   "mimetype": "text/x-python",
   "name": "python",
   "nbconvert_exporter": "python",
   "pygments_lexer": "ipython3",
   "version": "3.9.5"
  }
 },
 "nbformat": 4,
 "nbformat_minor": 2
}