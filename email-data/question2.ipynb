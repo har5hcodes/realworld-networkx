{
 "cells": [
  {
   "cell_type": "code",
   "execution_count": 46,
   "source": [
    "import networkx as nx\r\n",
    "import matplotlib.pyplot as plt\r\n",
    "\r\n",
    "\r\n",
    "G = nx.read_edgelist('email_core.txt', create_using = nx.Graph(), nodetype = int)\r\n",
    "\r\n",
    "\r\n",
    "print(f'Number of nodes: {G.number_of_nodes()}')\r\n",
    "print(f'Number of edges: {G.number_of_edges()}')\r\n",
    "\r\n",
    "nodes_with_degree_four = [val for (nodeID,val) in G.degree() if val==4]\r\n",
    "print(f'Number of nodes with degree 4: {len(nodes_with_degree_four)}')\r\n",
    "\r\n",
    "print(nx.average_clustering(G)) \r\n",
    "\r\n",
    "number_of_triangles = int(sum(nx.triangles(G).values()) / 3)\r\n",
    "print(f'Number of edge bridges: {number_of_triangles}')\r\n",
    "\r\n",
    "edge_bridges = list(nx.bridges(G))\r\n",
    "print(f'Number of edge bridges: {len(edge_bridges)}')\r\n",
    "\r\n",
    "\r\n"
   ],
   "outputs": [
    {
     "output_type": "stream",
     "name": "stdout",
     "text": [
      "Number of nodes: 1005\n",
      "Number of edges: 16706\n",
      "Number of nodes with degree 4 : 33\n",
      "0.3993549664221539\n",
      "Number of edge bridges: 105461\n",
      "Number of edge bridges: 95\n"
     ]
    }
   ],
   "metadata": {}
  },
  {
   "cell_type": "code",
   "execution_count": null,
   "source": [],
   "outputs": [],
   "metadata": {}
  },
  {
   "cell_type": "markdown",
   "source": [],
   "metadata": {}
  }
 ],
 "metadata": {
  "orig_nbformat": 4,
  "language_info": {
   "name": "python",
   "version": "3.9.5",
   "mimetype": "text/x-python",
   "codemirror_mode": {
    "name": "ipython",
    "version": 3
   },
   "pygments_lexer": "ipython3",
   "nbconvert_exporter": "python",
   "file_extension": ".py"
  },
  "kernelspec": {
   "name": "python3",
   "display_name": "Python 3.9.5 64-bit"
  },
  "interpreter": {
   "hash": "223c27acd2f0d30991757af3704a37d958d615953cddcb1d78c6a06176f530c7"
  }
 },
 "nbformat": 4,
 "nbformat_minor": 2
}