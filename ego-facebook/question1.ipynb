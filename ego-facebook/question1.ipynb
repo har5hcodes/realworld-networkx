{
 "cells": [
  {
   "cell_type": "code",
   "execution_count": 31,
   "source": [
    "# pip install networkx\r\n",
    "import networkx as nx\r\n",
    "import matplotlib.pyplot as plt\r\n",
    "\r\n",
    "G = nx.read_edgelist('facebook_combined.txt', create_using = nx.Graph(), nodetype = int)\r\n",
    "\r\n",
    "#number of nodes and edges in the orignal network\r\n",
    "print(f'Number of Nodes: {G.number_of_nodes()}')\r\n",
    "print(f'Number of Edges: {G.number_of_edges()}')\r\n",
    "\r\n",
    "#number of nodes and edges in the network \r\n",
    "#after removing nodes with IDs divisible by 3\r\n",
    "to_del = [n for n in G if n%3==0]\r\n",
    "G.remove_nodes_from(to_del)\r\n",
    "print(G.number_of_nodes())\r\n",
    "print(G.number_of_edges())"
   ],
   "outputs": [
    {
     "output_type": "stream",
     "name": "stdout",
     "text": [
      "Number of Nodes: 4039\n",
      "Number of Edges: 88234\n",
      "2692\n",
      "39116\n"
     ]
    }
   ],
   "metadata": {}
  },
  {
   "cell_type": "code",
   "execution_count": 32,
   "source": [
    "#nodes with highest degree\r\n",
    "high_degree  =0\r\n",
    "for node in G.nodes():\r\n",
    "    high_degree  = max(high_degree, G.degree[node])\r\n",
    "\r\n",
    "high_degree_nodes = [node for (node, val) in G.degree() if G.degree[node] == high_degree]\r\n",
    "print(\"node IDs with the highest degree: \",high_degree_nodes)"
   ],
   "outputs": [
    {
     "output_type": "stream",
     "name": "stdout",
     "text": [
      "node IDs with the highest degree:  [107]\n"
     ]
    }
   ],
   "metadata": {}
  },
  {
   "cell_type": "code",
   "execution_count": 33,
   "source": [
    "G_di = nx.read_edgelist('facebook_combined.txt', create_using = nx.DiGraph(), nodetype = int)\r\n",
    "\r\n",
    "scc = nx.number_strongly_connected_components(G_di)\r\n",
    "wcc = nx.number_weakly_connected_components(G_di)\r\n",
    "print(scc)\r\n",
    "print(wcc)"
   ],
   "outputs": [
    {
     "output_type": "stream",
     "name": "stdout",
     "text": [
      "4039\n",
      "1\n"
     ]
    }
   ],
   "metadata": {}
  },
  {
   "cell_type": "code",
   "execution_count": 34,
   "source": [
    "components = nx.connected_components(G)\r\n",
    "largest_component = max(components, key=len)\r\n",
    "subgraph = G.subgraph(largest_component)\r\n",
    "\r\n",
    "#fraction of nodes in the largest connected component\r\n",
    "fraction = subgraph.number_of_nodes()/(G.number_of_nodes())\r\n",
    "print(\"Fraction of nodes in the largest connected component: \", fraction)\r\n",
    "\r\n",
    "#number of articulation points\r\n",
    "print(\"Number of articulation points: \",len(list(nx.articulation_points(G))))\r\n",
    "\r\n",
    "#number of connected components\r\n",
    "print(\"Number of connected components: \",nx.number_connected_components(G))"
   ],
   "outputs": [
    {
     "output_type": "stream",
     "name": "stdout",
     "text": [
      "Fraction of nodes in the largest connected component:  0.9684249628528975\n",
      "Number of articulation points:  26\n",
      "Number of connected components:  37\n"
     ]
    }
   ],
   "metadata": {}
  },
  {
   "cell_type": "code",
   "execution_count": 35,
   "source": [
    "diameter = nx.diameter(subgraph)\r\n",
    "print(\"Network diameter of largest component: \", diameter)"
   ],
   "outputs": [
    {
     "output_type": "stream",
     "name": "stdout",
     "text": [
      "Network diameter of largest component:  14\n"
     ]
    }
   ],
   "metadata": {}
  }
 ],
 "metadata": {
  "orig_nbformat": 4,
  "language_info": {
   "name": "python",
   "version": "3.9.5",
   "mimetype": "text/x-python",
   "codemirror_mode": {
    "name": "ipython",
    "version": 3
   },
   "pygments_lexer": "ipython3",
   "nbconvert_exporter": "python",
   "file_extension": ".py"
  },
  "kernelspec": {
   "name": "python3",
   "display_name": "Python 3.9.5 64-bit"
  },
  "interpreter": {
   "hash": "223c27acd2f0d30991757af3704a37d958d615953cddcb1d78c6a06176f530c7"
  }
 },
 "nbformat": 4,
 "nbformat_minor": 2
}