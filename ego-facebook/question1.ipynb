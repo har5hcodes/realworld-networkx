{
 "cells": [
  {
   "cell_type": "code",
   "execution_count": 4,
   "source": [
    "# pip install networkx\r\n",
    "import networkx as nx\r\n",
    "import matplotlib.pyplot as plt\r\n",
    "\r\n",
    "\r\n",
    "G = nx.read_edgelist('facebook_combined.txt', create_using = nx.Graph(), nodetype = int)\r\n",
    "\r\n",
    "\r\n",
    "print(f'Number of Nodes: {G.number_of_nodes()}')\r\n",
    "print(f'Number of Edges: {G.number_of_edges()}')\r\n",
    "\r\n",
    "# to_del = [n for n in G if n%3==0]\r\n",
    "# G.remove_nodes_from(to_del)\r\n",
    "# print(G.number_of_nodes())\r\n",
    "# print(G.number_of_edges())\r\n",
    "\r\n",
    "# pos = nx.spring_layout(G)\r\n",
    "# nx.draw_networkx(G, pos=pos, with_labels=False,\r\n",
    "#                  node_color=\"red\",\r\n",
    "#                  node_size=10 )\r\n",
    "# plt.axis('off')\r\n",
    "\r\n",
    "\r\n",
    "\r\n"
   ],
   "outputs": [
    {
     "output_type": "stream",
     "name": "stdout",
     "text": [
      "Number of Nodes: 4039\n",
      "Number of Edges: 88234\n"
     ]
    }
   ],
   "metadata": {}
  },
  {
   "cell_type": "code",
   "execution_count": 5,
   "source": [
    "len(list(nx.articulation_points(G)))"
   ],
   "outputs": [
    {
     "output_type": "execute_result",
     "data": {
      "text/plain": [
       "11"
      ]
     },
     "metadata": {},
     "execution_count": 5
    }
   ],
   "metadata": {}
  },
  {
   "cell_type": "code",
   "execution_count": 10,
   "source": [
    "high_degree  =0\r\n",
    "for node in G.nodes():\r\n",
    "    high_degree  = max(high_degree, G.degree[node])\r\n",
    "print(high_degree)\r\n",
    "high_degree_nodes = [node for (node, val) in G.degree() if G.degree[node] == high_degree]\r\n",
    "print(high_degree_nodes)"
   ],
   "outputs": [
    {
     "output_type": "stream",
     "name": "stdout",
     "text": [
      "1045\n",
      "[107]\n"
     ]
    }
   ],
   "metadata": {}
  },
  {
   "cell_type": "code",
   "execution_count": 11,
   "source": [
    "G_di = nx.read_edgelist('facebook_combined.txt', create_using = nx.DiGraph(), nodetype = int)\r\n",
    "\r\n",
    "scc = nx.number_strongly_connected_components(G_di)\r\n",
    "wcc = nx.number_weakly_connected_components(G_di)\r\n",
    "print(scc)\r\n",
    "print(wcc)"
   ],
   "outputs": [
    {
     "output_type": "stream",
     "name": "stdout",
     "text": [
      "4039\n",
      "1\n"
     ]
    }
   ],
   "metadata": {}
  }
 ],
 "metadata": {
  "orig_nbformat": 4,
  "language_info": {
   "name": "python",
   "version": "3.9.5",
   "mimetype": "text/x-python",
   "codemirror_mode": {
    "name": "ipython",
    "version": 3
   },
   "pygments_lexer": "ipython3",
   "nbconvert_exporter": "python",
   "file_extension": ".py"
  },
  "kernelspec": {
   "name": "python3",
   "display_name": "Python 3.9.5 64-bit"
  },
  "interpreter": {
   "hash": "223c27acd2f0d30991757af3704a37d958d615953cddcb1d78c6a06176f530c7"
  }
 },
 "nbformat": 4,
 "nbformat_minor": 2
}