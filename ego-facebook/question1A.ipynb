{
 "cells": [
  {
   "cell_type": "code",
   "execution_count": 18,
   "source": [
    "# pip install networkx\r\n",
    "import networkx as nx\r\n",
    "import matplotlib.pyplot as plt\r\n",
    "\r\n",
    "G = nx.read_edgelist('facebook_combined.txt', create_using = nx.Graph(), nodetype = int)\r\n",
    "\r\n",
    "print(G.number_of_nodes())\r\n",
    "print(G.number_of_edges())\r\n",
    "to_del = [n for n in G if n%3==0]\r\n",
    "G.remove_nodes_from(to_del)\r\n",
    "print(G.number_of_nodes())\r\n",
    "print(G.number_of_edges())\r\n",
    "\r\n",
    "# pos = nx.spring_layout(G)\r\n",
    "# nx.draw_networkx(G, pos=pos, with_labels=False,\r\n",
    "#                  node_color=\"red\",\r\n",
    "#                  node_size=10 )\r\n",
    "# plt.axis('off')\r\n"
   ],
   "outputs": [
    {
     "output_type": "stream",
     "name": "stdout",
     "text": [
      "4039\n",
      "88234\n",
      "2692\n",
      "39116\n"
     ]
    }
   ],
   "metadata": {}
  }
 ],
 "metadata": {
  "orig_nbformat": 4,
  "language_info": {
   "name": "python",
   "version": "3.9.5",
   "mimetype": "text/x-python",
   "codemirror_mode": {
    "name": "ipython",
    "version": 3
   },
   "pygments_lexer": "ipython3",
   "nbconvert_exporter": "python",
   "file_extension": ".py"
  },
  "kernelspec": {
   "name": "python3",
   "display_name": "Python 3.9.5 64-bit"
  },
  "interpreter": {
   "hash": "223c27acd2f0d30991757af3704a37d958d615953cddcb1d78c6a06176f530c7"
  }
 },
 "nbformat": 4,
 "nbformat_minor": 2
}